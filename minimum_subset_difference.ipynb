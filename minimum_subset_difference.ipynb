{
  "nbformat": 4,
  "nbformat_minor": 0,
  "metadata": {
    "colab": {
      "name": "question_python.ipynb",
      "private_outputs": true,
      "provenance": [],
      "collapsed_sections": [],
      "authorship_tag": "ABX9TyN/U5O/u4vBDk7dsyXP5Svd",
      "include_colab_link": true
    },
    "kernelspec": {
      "name": "python3",
      "display_name": "Python 3"
    },
    "language_info": {
      "name": "python"
    }
  },
  "cells": [
    {
      "cell_type": "markdown",
      "metadata": {
        "id": "view-in-github",
        "colab_type": "text"
      },
      "source": [
        "<a href=\"https://colab.research.google.com/github/harshgupta9723/data_structure/blob/main/minimum_subset_difference.ipynb\" target=\"_parent\"><img src=\"https://colab.research.google.com/assets/colab-badge.svg\" alt=\"Open In Colab\"/></a>"
      ]
    },
    {
      "cell_type": "code",
      "metadata": {
        "id": "4PdtYqrdNoVn"
      },
      "source": [
        "def number_is_prime(num):\n",
        "    if num > 1:\n",
        "        for i in range(2, int(num/2)+1):\n",
        "            if (num % i) == 0:\n",
        "                return False\n",
        "                break\n",
        "        else:\n",
        "            return True\n",
        "    else:\n",
        "        return False"
      ],
      "execution_count": null,
      "outputs": []
    },
    {
      "cell_type": "code",
      "metadata": {
        "id": "giVMc6OxPiT6"
      },
      "source": [
        "print(number_is_prime(11))"
      ],
      "execution_count": null,
      "outputs": []
    },
    {
      "cell_type": "code",
      "metadata": {
        "id": "oDc8M5XNQjX_"
      },
      "source": [
        "def find_factor(num):\n",
        "    factor = 1\n",
        "\n",
        "    factors = []\n",
        "    while factor <= num:\n",
        "        if (num % factor == 0):\n",
        "            factors.append(factor)\n",
        "        factor+=1\n",
        "\n",
        "    return factors\n",
        "\n",
        "factors = find_factor(100)"
      ],
      "execution_count": null,
      "outputs": []
    },
    {
      "cell_type": "code",
      "metadata": {
        "id": "IY-y_PRzXh3m"
      },
      "source": [
        "factors = find_factor(100)\n",
        "print(factors)"
      ],
      "execution_count": null,
      "outputs": []
    },
    {
      "cell_type": "code",
      "metadata": {
        "id": "qKMy7kjFxaRw"
      },
      "source": [
        "# Python3 program for the\n",
        "# above approach\n",
        "# A Recursive C program to\n",
        "# solve minimum sum partition\n",
        "# problem.\n",
        " \n",
        "# Function to find the minimum sum\n",
        "def findMinRec(arr, i, sumCalculated, sumTotal):\n",
        " \n",
        "    # If we have reached last element. \n",
        "    # Sum of one subset is sumCalculated,\n",
        "    # sum of other subset is sumTotal-\n",
        "    # sumCalculated.  Return absolute\n",
        "    # difference of two sums.\n",
        "    if (i == 0):\n",
        "        return abs((sumTotal - sumCalculated) - sumCalculated)\n",
        " \n",
        "    # For every item arr[i], we have two choices\n",
        "    # (1) We do not include it first set\n",
        "    # (2) We include it in first set\n",
        "    # We return minimum of two choices\n",
        "    return min(findMinRec(arr, i - 1, sumCalculated+arr[i - 1], sumTotal), findMinRec(arr, i - 1,sumCalculated, sumTotal))\n",
        " \n",
        "# Returns minimum possible\n",
        "# difference between sums\n",
        "# of two subsets\n",
        "def findMin(arr,  n):\n",
        " \n",
        "    # Compute total sum\n",
        "    # of elements\n",
        "    sumTotal = 0\n",
        "    for i in range(n):\n",
        "        sumTotal += arr[i]\n",
        " \n",
        "    # Compute result using\n",
        "    # recursive function\n",
        "    return findMinRec(arr, n, 0, sumTotal)\n",
        " \n",
        "# Driver code\n",
        "if __name__ == \"__main__\":\n",
        " \n",
        "    arr = [2,2,5,5]\n",
        "    n = len(arr)\n",
        "    print(\"The minimum difference \" + \"between two sets is \",findMin(arr, n))"
      ],
      "execution_count": null,
      "outputs": []
    }
  ]
}