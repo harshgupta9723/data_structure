{
  "nbformat": 4,
  "nbformat_minor": 0,
  "metadata": {
    "colab": {
      "name": "minimum_subset_difference.ipynb",
      "private_outputs": true,
      "provenance": [],
      "collapsed_sections": [],
      "authorship_tag": "ABX9TyO8FIKtn745ji2F7/cIHhWy",
      "include_colab_link": true
    },
    "kernelspec": {
      "name": "python3",
      "display_name": "Python 3"
    },
    "language_info": {
      "name": "python"
    }
  },
  "cells": [
    {
      "cell_type": "markdown",
      "metadata": {
        "id": "view-in-github",
        "colab_type": "text"
      },
      "source": [
        "<a href=\"https://colab.research.google.com/github/harshgupta9723/data_structure/blob/main/minimum_subset_difference.ipynb\" target=\"_parent\"><img src=\"https://colab.research.google.com/assets/colab-badge.svg\" alt=\"Open In Colab\"/></a>"
      ]
    },
    {
      "cell_type": "code",
      "metadata": {
        "id": "GY5KFh1DnPLX"
      },
      "source": [
        "import math\n",
        "def number_is_prime(num):\n",
        "    \n",
        "    if num > 1:\n",
        "        for i in range(2, int(num/2)+1):\n",
        "            if (num % i) == 0:\n",
        "                return False\n",
        "                break\n",
        "        else:\n",
        "            return True\n",
        "    else:\n",
        "        return False\n",
        " \n",
        " \n",
        "def factors(x):\n",
        " \n",
        "    test = int(math.sqrt(x))\n",
        " \n",
        "    for i in range(test):\n",
        "        if (x % test == 0):\n",
        "            return (test, int(x / test))\n",
        "            exit()\n",
        "        else:\n",
        "            test = test - 1\n",
        " \n",
        " \n",
        "def nearest_equal_factors(n):\n",
        " \n",
        "    #check if number is prime number\n",
        "    if number_is_prime(n):\n",
        "        f1, f2 = n, 1\n",
        "        print('F1 = ', f1, 'F2 = ', f2)\n",
        "    else:\n",
        "        f1, f2 = factors(n)\n",
        "        print('F1 = ', f1, 'F2 = ', f2)\n",
        " \n",
        " \n",
        "# output:-\n",
        "nearest_equal_factors(100)\n",
        "# F1 =  10 F2 =  10\n",
        " \n",
        "nearest_equal_factors(1024)\n",
        "# F1 =  32 F2 =  32\n",
        " \n",
        "nearest_equal_factors(27000)\n",
        "# F1 =  150 F2 =  180\n",
        " \n",
        "nearest_equal_factors(27001)\n",
        "# F1 =  67 F2 =  403"
      ],
      "execution_count": null,
      "outputs": []
    }
  ]
}